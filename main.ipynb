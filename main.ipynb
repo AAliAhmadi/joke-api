{
 "cells": [
  {
   "cell_type": "code",
   "execution_count": 2,
   "id": "82be210b",
   "metadata": {},
   "outputs": [
    {
     "name": "stdout",
     "output_type": "stream",
     "text": [
      "jokeA: My parents raised me as an only child, which really annoyed my younger brother.\n",
      "jokeB: Why did the man put his money in the freezer? He wanted cold hard cash!\n",
      "If you want a third joke from api.api-ninjas.com, you need a valid API key.\n",
      "Visit https://api.api-ninjas.com and get a valid API key, then paste it in the API variable.\n"
     ]
    }
   ],
   "source": [
    "#!/usr/bin/env python\n",
    "# coding: utf-8\n",
    "\n",
    "# In[ ]:\n",
    "\n",
    "\n",
    "from jokers.joker_a import JokerA\n",
    "from jokers.joker_b import JokerB\n",
    "from jokers.joker_c import JokerC\n",
    "\n",
    "if __name__ == '__main__':\n",
    "    jokeA = JokerA()\n",
    "    print(jokeA.get_random_joke())\n",
    "\n",
    "    jokeB = JokerB()\n",
    "    print(jokeB.get_random_joke())\n",
    "\n",
    "    API = ''\n",
    "    jokeC = JokerC(api_token=API)\n",
    "    try:\n",
    "        print(jokeC.get_random_joke())\n",
    "    except:\n",
    "        print(\"\"\"If you want a third joke from api.api-ninjas.com, you need a valid API key.\n",
    "Visit https://api.api-ninjas.com and get a valid API key, then paste it in the API variable.\"\"\")\n",
    "\n",
    "\n"
   ]
  },
  {
   "cell_type": "code",
   "execution_count": null,
   "id": "1bec8253",
   "metadata": {},
   "outputs": [],
   "source": []
  }
 ],
 "metadata": {
  "kernelspec": {
   "display_name": "Python 3 (ipykernel)",
   "language": "python",
   "name": "python3"
  },
  "language_info": {
   "codemirror_mode": {
    "name": "ipython",
    "version": 3
   },
   "file_extension": ".py",
   "mimetype": "text/x-python",
   "name": "python",
   "nbconvert_exporter": "python",
   "pygments_lexer": "ipython3",
   "version": "3.11.4"
  }
 },
 "nbformat": 4,
 "nbformat_minor": 5
}
